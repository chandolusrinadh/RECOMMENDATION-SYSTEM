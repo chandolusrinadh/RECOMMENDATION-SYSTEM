{
  "nbformat": 4,
  "nbformat_minor": 0,
  "metadata": {
    "colab": {
      "provenance": []
    },
    "kernelspec": {
      "name": "python3",
      "display_name": "Python 3"
    },
    "language_info": {
      "name": "python"
    }
  },
  "cells": [
    {
      "cell_type": "code",
      "source": [
        "!pip install scikit-surprise --quiet\n"
      ],
      "metadata": {
        "id": "qr1rtLfOwQTF"
      },
      "execution_count": 3,
      "outputs": []
    },
    {
      "cell_type": "code",
      "source": [
        "!wget http://files.grouplens.org/datasets/movielens/ml-100k.zip\n",
        "!unzip -q ml-100k.zip\n"
      ],
      "metadata": {
        "colab": {
          "base_uri": "https://localhost:8080/"
        },
        "id": "SLPdOOHawaWT",
        "outputId": "406325ce-1703-42b4-b1db-c543f469baeb"
      },
      "execution_count": 4,
      "outputs": [
        {
          "output_type": "stream",
          "name": "stdout",
          "text": [
            "--2025-07-01 16:18:13--  http://files.grouplens.org/datasets/movielens/ml-100k.zip\n",
            "Resolving files.grouplens.org (files.grouplens.org)... 128.101.65.152\n",
            "Connecting to files.grouplens.org (files.grouplens.org)|128.101.65.152|:80... connected.\n",
            "HTTP request sent, awaiting response... 200 OK\n",
            "Length: 4924029 (4.7M) [application/zip]\n",
            "Saving to: ‘ml-100k.zip.2’\n",
            "\n",
            "ml-100k.zip.2       100%[===================>]   4.70M  25.6MB/s    in 0.2s    \n",
            "\n",
            "2025-07-01 16:18:13 (25.6 MB/s) - ‘ml-100k.zip.2’ saved [4924029/4924029]\n",
            "\n",
            "replace ml-100k/allbut.pl? [y]es, [n]o, [A]ll, [N]one, [r]ename: "
          ]
        }
      ]
    },
    {
      "cell_type": "code",
      "source": [
        "import pandas as pd\n",
        "from surprise import Dataset, Reader\n",
        "\n",
        "# Load ratings into DataFrame\n",
        "ratings_df = pd.read_csv('ml-100k/u.data', sep='\\t', names=['userID', 'itemID', 'rating', 'timestamp'])\n",
        "\n",
        "# Prepare data for Surprise\n",
        "reader = Reader(rating_scale=(1, 5))\n",
        "data = Dataset.load_from_df(ratings_df[['userID', 'itemID', 'rating']], reader)\n"
      ],
      "metadata": {
        "id": "heBAraXHwhKS"
      },
      "execution_count": 5,
      "outputs": []
    },
    {
      "cell_type": "code",
      "source": [
        "from surprise.model_selection import train_test_split\n",
        "from surprise import SVD\n",
        "from surprise import accuracy\n",
        "\n",
        "# Split data\n",
        "trainset, testset = train_test_split(data, test_size=0.2)\n",
        "\n",
        "# Build and train model\n",
        "algo = SVD()\n",
        "algo.fit(trainset)\n",
        "# Predict ratings\n",
        "predictions = algo.test(testset)\n",
        "\n",
        "# Evaluate using RMSE and MAE\n",
        "print(\"Evaluation Metrics:\")\n",
        "rmse = accuracy.rmse(predictions)\n",
        "mae = accuracy.mae(predictions)\n",
        "from collections import defaultdict\n",
        "\n",
        "def get_top_n(predictions, n=5):\n",
        "    top_n = defaultdict(list)\n",
        "    for uid, iid, true_r, est, _ in predictions:\n",
        "        top_n[uid].append((iid, est))\n",
        "    for uid, user_ratings in top_n.items():\n",
        "        user_ratings.sort(key=lambda x: x[1], reverse=True)\n",
        "        top_n[uid] = user_ratings[:n]\n",
        "    return top_n\n",
        "\n",
        "top_n = get_top_n(predictions, n=5)\n",
        "# Show recommendations for one user\n",
        "for uid, user_ratings in top_n.items():\n",
        "    print(f\"\\nTop recommendations for User {uid}:\")\n",
        "    for iid, rating in user_ratings:\n",
        "        print(f\"  Movie ID: {iid}, Predicted Rating: {rating:.2f}\")\n",
        "    break  # Remove break to show for all users\n"
      ],
      "metadata": {
        "colab": {
          "base_uri": "https://localhost:8080/"
        },
        "id": "05ZJIecwxvCA",
        "outputId": "f68c6cd0-c811-4437-c694-db8fc5c770a2"
      },
      "execution_count": 6,
      "outputs": [
        {
          "output_type": "stream",
          "name": "stdout",
          "text": [
            "Evaluation Metrics:\n",
            "RMSE: 0.9372\n",
            "MAE:  0.7395\n",
            "\n",
            "Top recommendations for User 878:\n",
            "  Movie ID: 59, Predicted Rating: 3.91\n",
            "  Movie ID: 22, Predicted Rating: 3.82\n",
            "  Movie ID: 498, Predicted Rating: 3.70\n",
            "  Movie ID: 427, Predicted Rating: 3.66\n",
            "  Movie ID: 474, Predicted Rating: 3.63\n"
          ]
        }
      ]
    }
  ]
}
